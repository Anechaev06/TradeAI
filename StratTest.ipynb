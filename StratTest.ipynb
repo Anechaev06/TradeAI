{
 "cells": [
  {
   "cell_type": "code",
   "execution_count": 10,
   "metadata": {},
   "outputs": [],
   "source": [
    "from Def import*"
   ]
  },
  {
   "cell_type": "code",
   "execution_count": null,
   "metadata": {},
   "outputs": [],
   "source": [
    "for index, row in df.iterrows():\n",
    "    if row['signal']=='buy':\n",
    "        print('Buy',row['close'])\n",
    "    elif row['signal']=='sell':\n",
    "        print('Sell',row['close'])"
   ]
  },
  {
   "cell_type": "code",
   "execution_count": 1,
   "metadata": {},
   "outputs": [
    {
     "name": "stdout",
     "output_type": "stream",
     "text": [
      "Прибыль: $ 3.93\n"
     ]
    }
   ],
   "source": [
    "purchase_price = 28049\n",
    "purchase_amount = 1000\n",
    "commission = 0.0001\n",
    "sell_price = 28165\n",
    "\n",
    "# Рассчитываем количество купленных биткоинов\n",
    "bitcoins_bought = (purchase_amount * (1 - commission)) / purchase_price\n",
    "\n",
    "# Рассчитываем сумму, полученную после продажи биткоинов\n",
    "sell_amount = bitcoins_bought * sell_price * (1 - commission)\n",
    "\n",
    "# Рассчитываем прибыль\n",
    "profit = sell_amount - purchase_amount\n",
    "\n",
    "print(\"Прибыль: $\", format(profit, \".2f\"))"
   ]
  },
  {
   "cell_type": "code",
   "execution_count": 69,
   "metadata": {},
   "outputs": [
    {
     "name": "stdout",
     "output_type": "stream",
     "text": [
      "Комиссия мейкера на покупку:  1.0 USDT\n",
      "Комиссия тейкера на покупку:  1.0 USDT\n",
      "Комиссия мейкера на продажу:  1.0 USDT\n",
      "Комиссия тейкера на продажу:  1.0 USDT\n"
     ]
    }
   ],
   "source": [
    "purchase_price = 27608.5\n",
    "purchase_amount = 1000\n",
    "maker_fee_rate = 0.0010\n",
    "taker_fee_rate = 0.0010\n",
    "\n",
    "# Расчет количества купленных биткоинов\n",
    "bitcoins_bought = purchase_amount / purchase_price\n",
    "\n",
    "# Расчет комиссии мейкера и тейкера в биткоинах\n",
    "maker_fee = bitcoins_bought * maker_fee_rate\n",
    "taker_fee = bitcoins_bought * taker_fee_rate\n",
    "\n",
    "# Конвертация комиссии из биткоинов в USDT по текущей цене\n",
    "maker_fee_usdt = maker_fee * purchase_price\n",
    "taker_fee_usdt = taker_fee * purchase_price\n",
    "\n",
    "print(\"Комиссия мейкера на покупку: \", round(maker_fee_usdt, 4), \"USDT\")\n",
    "print(\"Комиссия тейкера на покупку: \", round(taker_fee_usdt, 4), \"USDT\")\n",
    "\n",
    "# Расчет комиссии мейкера и тейкера на продажу\n",
    "sell_price = purchase_price\n",
    "\n",
    "# Расчет комиссии мейкера и тейкера в биткоинах\n",
    "maker_fee_sell = bitcoins_bought * maker_fee_rate\n",
    "taker_fee_sell = bitcoins_bought * taker_fee_rate\n",
    "\n",
    "# Конвертация комиссии из биткоинов в USDT по текущей цене\n",
    "maker_fee_sell_usdt = maker_fee_sell * sell_price\n",
    "taker_fee_sell_usdt = taker_fee_sell * sell_price\n",
    "\n",
    "print(\"Комиссия мейкера на продажу: \", round(maker_fee_sell_usdt, 4), \"USDT\")\n",
    "print(\"Комиссия тейкера на продажу: \", round(taker_fee_sell_usdt, 4), \"USDT\")\n"
   ]
  },
  {
   "cell_type": "code",
   "execution_count": 29,
   "metadata": {},
   "outputs": [
    {
     "name": "stdout",
     "output_type": "stream",
     "text": [
      "   close  diff_close2\n",
      "0   1000          NaN\n",
      "1   1050          NaN\n",
      "2   1100         75.0\n",
      "3   1150         75.0\n",
      "4   1200         75.0\n",
      "5   1250         75.0\n",
      "6   1300         75.0\n",
      "7   1350         75.0\n"
     ]
    }
   ],
   "source": [
    "import pandas as pd\n",
    "\n",
    "def moving_average_difference(df, periods):\n",
    "    column_name = f'diff_close{periods}'\n",
    "    total_difference = 0\n",
    "\n",
    "    for i in range(1, periods + 1):\n",
    "        total_difference += (df['close'] - df['close'].shift(i))\n",
    "\n",
    "    df[column_name] = (total_difference / periods).round(2)\n",
    "    return df\n",
    "\n",
    "# Пример использования функции\n",
    "data = {'close': [1000, 1050, 1100, 1150, 1200, 1250, 1300, 1350]}\n",
    "df = pd.DataFrame(data)\n",
    "\n",
    "periods = 2\n",
    "df = moving_average_difference(df, periods)\n",
    "print(df)\n"
   ]
  },
  {
   "cell_type": "code",
   "execution_count": null,
   "metadata": {},
   "outputs": [],
   "source": [
    "df['diff_close4'] = ((df['close'] - df['close'].shift(4)) + (df['close'] - df['close'].shift(3))+(df['close'] - df['close'].shift(2))+(df['close'] - df['close'].shift(1)))/4"
   ]
  },
  {
   "cell_type": "code",
   "execution_count": 40,
   "metadata": {},
   "outputs": [
    {
     "name": "stdout",
     "output_type": "stream",
     "text": [
      "   close  diff_close2\n",
      "0   1000          NaN\n",
      "1   1050          NaN\n",
      "2   1100         4.88\n",
      "3   1150         4.65\n",
      "4   1200         4.45\n",
      "5   1250         4.26\n",
      "6   1300         4.08\n",
      "7   1350         3.92\n"
     ]
    }
   ],
   "source": [
    "def moving_average_difference(df, periods):\n",
    "    column_name = f'diff_close{periods}'\n",
    "\n",
    "    # Рассчитываем процентное изменение между текущим и предыдущим значением\n",
    "    df[column_name] = ((df['close'] / df['close'].shift(1)) - 1) * 100\n",
    "\n",
    "    # Рассчитываем скользящее среднее\n",
    "    df[column_name] = df[column_name].rolling(periods).mean().round(2)\n",
    "\n",
    "    return df\n",
    "\n",
    "\n",
    "# Пример использования функции\n",
    "data = {'close': [1000, 1050, 1100, 1150, 1200, 1250, 1300, 1350]}\n",
    "df = pd.DataFrame(data)\n",
    "\n",
    "periods = 2\n",
    "df = moving_average_difference(df, periods)\n",
    "print(df)\n"
   ]
  },
  {
   "cell_type": "code",
   "execution_count": null,
   "metadata": {},
   "outputs": [],
   "source": [
    "# Устанавливаем начальную сумму денег и количество криптовалют, которые у нас есть\n",
    "initial_cash = 1000\n",
    "initial_cash2 = initial_cash\n",
    "initial_coins = 0\n",
    "\n",
    "# Создаем список для хранения изменений стоимости криптовалют\n",
    "coin_prices = []\n",
    "\n",
    "# Устанавливаем комиссию в 0.1%\n",
    "commission = 0.0001\n",
    "\n",
    "# Инициализируем счетчики для статистики\n",
    "total_trades = 0\n",
    "successful_trades = 0\n",
    "unsuccessful_trades = 0\n",
    "\n",
    "# Проходим по строкам таблицы\n",
    "for index, row in df.iterrows():\n",
    "    # Если есть позиция на покупку\n",
    "    if position == 'long':\n",
    "        # Проверяем, если есть сигнал на продажу\n",
    "        if row['signal'] == 'sell':\n",
    "            # Продаем криптовалюты\n",
    "            coins_sold = initial_coins\n",
    "            coin_prices.append(row['close'])\n",
    "            initial_cash += coins_sold * row['close'] * (1 - commission)\n",
    "            initial_coins = 0\n",
    "            position = 'out'\n",
    "\n",
    "            # Обновляем счетчики статистики\n",
    "            total_trades += 1\n",
    "            if len(coin_prices) > 1 and coin_prices[-1] > coin_prices[-2]:\n",
    "                successful_trades += 1\n",
    "            else:\n",
    "                unsuccessful_trades += 1\n",
    "\n",
    "    # Если нет позиции на покупку, но есть сигнал на покупку\n",
    "    elif position == 'out' and row['signal'] == 'buy':\n",
    "        # Покупаем криптовалюты\n",
    "        coins_bought = (initial_cash * (1 - commission)) / row['close']\n",
    "        coin_prices.append(row['close'])\n",
    "        initial_coins += coins_bought\n",
    "        initial_cash = 0\n",
    "        position = 'long'\n",
    "\n",
    "# Если остались криптовалюты в конце, продаем их по последней известной цене\n",
    "if initial_coins > 0:\n",
    "    coins_sold = initial_coins\n",
    "    coin_prices.append(df.iloc[-1]['close'])\n",
    "    initial_cash += coins_sold * df.iloc[-1]['close'] * (1 - commission)\n",
    "    initial_coins = 0\n",
    "    position = 'out'\n",
    "\n",
    "# Вычисляем изменение суммы денег\n",
    "profit = initial_cash - initial_cash2\n",
    "\n",
    "# Вычисляем win rate\n",
    "win_rate = (successful_trades / total_trades) * 100 if total_trades > 0 else 0\n",
    "\n",
    "# Выводим результаты\n",
    "print(\"initial_cash2:\", initial_cash2)\n",
    "print(\"Profit: $\", profit)\n",
    "print(\"Total Trades:\", total_trades)\n",
    "print(\"Successful Trades:\", successful_trades)\n",
    "print(\"Unsuccessful Trades:\", unsuccessful_trades)\n",
    "print(\"Win Rate: {:.2f}%\".format(win_rate))\n",
    "print(\"commission:\",commission)\n",
    "print(\"days:\",days)"
   ]
  }
 ],
 "metadata": {
  "kernelspec": {
   "display_name": "Python 3",
   "language": "python",
   "name": "python3"
  },
  "language_info": {
   "codemirror_mode": {
    "name": "ipython",
    "version": 3
   },
   "file_extension": ".py",
   "mimetype": "text/x-python",
   "name": "python",
   "nbconvert_exporter": "python",
   "pygments_lexer": "ipython3",
   "version": "3.10.11"
  },
  "orig_nbformat": 4
 },
 "nbformat": 4,
 "nbformat_minor": 2
}
