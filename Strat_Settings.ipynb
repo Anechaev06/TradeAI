{
 "cells": [
  {
   "cell_type": "code",
   "execution_count": 1,
   "metadata": {},
   "outputs": [],
   "source": [
    "# Импорт библиотек\n",
    "from Def import *"
   ]
  },
  {
   "cell_type": "code",
   "execution_count": 2,
   "metadata": {},
   "outputs": [],
   "source": [
    "# Создаем пустой DataFrame\n",
    "empty_df = pd.DataFrame()\n",
    "\n",
    "# Сохраняем пустой DataFrame в файл CSV, перезаписывая содержимое файла\n",
    "empty_df.to_csv('df.csv', index=False)"
   ]
  },
  {
   "cell_type": "code",
   "execution_count": 3,
   "metadata": {},
   "outputs": [],
   "source": [
    "symbol = \"BTCUSD\"\n",
    "interval = \"5\"\n",
    "days = 67\n",
    "df = get_historical_data(symbol, interval, days)"
   ]
  },
  {
   "cell_type": "code",
   "execution_count": 4,
   "metadata": {},
   "outputs": [],
   "source": [
    "df = remove_recent_days(df, 30)"
   ]
  },
  {
   "cell_type": "code",
   "execution_count": 5,
   "metadata": {},
   "outputs": [],
   "source": [
    "#Создаём столбцы с ADX\n",
    "df['ADX'],df['DI+'],df['DI-'] = adx(df['high'], df['low'], df['close'], n=14)\n",
    "macd_line, signal_line, histogram = macd(df)\n",
    "df['macd_line'] = macd_line\n",
    "df['signal_line'] = signal_line\n",
    "df['histogram'] = histogram\n",
    "df.dropna(inplace=True)\n",
    "\n",
    "# Рассчитываем двойной стохастик\n",
    "k_period = 14\n",
    "d_period = 3\n",
    "smoothing_period = 3\n",
    "df = calculate_stochastic(df, k_period, d_period, smoothing_period)\n",
    "\n",
    "# Рассчитываем RSI\n",
    "df = calculate_rsi(df)\n",
    "\n",
    "# Расчет индикатора STC\n",
    "df = calculate_stc(df)\n",
    "df = calculate_stc2(df,12,26,50,0.5)\n",
    "\n",
    "\n",
    "\n",
    "# Создаем столбцы с предыдущими значениями ADX, DI+ и DI-, low\n",
    "df['prev_close'] = df['close'].shift()\n",
    "df['prev_adx'] = df['ADX'].shift()\n",
    "df['prev_di_plus'] = df['DI+'].shift()\n",
    "df['prev2_di_minus'] = df['DI-'].shift()\n",
    "df['prev_low'] = df['low'].shift()\n",
    "df['diff_adx'] = ((df['ADX'] - df['ADX'].shift(2)) + (df['ADX'] - df['ADX'].shift(1)))/2 \n",
    "df['diff_close'] = (((df['close'] - df['close'].shift(2)) + (df['close'] - df['close'].shift(1)))/2)/df['close']\n",
    "df['diff_close2'] = ((df['close'] - df['close'].shift(2)) + (df['close'] - df['close'].shift(1)))/2\n",
    "df['growth'] = ((df['close'].shift(1) - df['close'].shift(2)) / df['close'].shift(2)) * 100\n",
    "df['diff_rsi4'] = ((df['close'] - df['close'].shift(4)) + (df['close'] - df['close'].shift(3))+(df['close'] - df['close'].shift(2))+(df['close'] - df['close'].shift(1)))/4"
   ]
  },
  {
   "cell_type": "code",
   "execution_count": 6,
   "metadata": {},
   "outputs": [],
   "source": [
    "df.to_csv('df.csv', index=True)"
   ]
  }
 ],
 "metadata": {
  "kernelspec": {
   "display_name": "Python 3",
   "language": "python",
   "name": "python3"
  },
  "language_info": {
   "codemirror_mode": {
    "name": "ipython",
    "version": 3
   },
   "file_extension": ".py",
   "mimetype": "text/x-python",
   "name": "python",
   "nbconvert_exporter": "python",
   "pygments_lexer": "ipython3",
   "version": "3.10.11"
  },
  "orig_nbformat": 4
 },
 "nbformat": 4,
 "nbformat_minor": 2
}
